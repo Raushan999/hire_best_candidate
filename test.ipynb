{
 "cells": [
  {
   "cell_type": "markdown",
   "id": "6b7a949b",
   "metadata": {},
   "source": [
    "Testing Pinecone:"
   ]
  },
  {
   "cell_type": "code",
   "execution_count": null,
   "id": "aa6f0f13",
   "metadata": {},
   "outputs": [],
   "source": [
    "# %pip install pinecone\n",
    "# %pip install python-dotenv\n",
    "# %pip install mysql-connector-python\n",
    "# %pip install -U langchain-google-genai\n",
    "# %pip install PyMySQL"
   ]
  },
  {
   "cell_type": "code",
   "execution_count": 122,
   "id": "f9c90cd6",
   "metadata": {},
   "outputs": [],
   "source": [
    "import warnings\n",
    "warnings.filterwarnings(\"ignore\")"
   ]
  },
  {
   "cell_type": "code",
   "execution_count": 162,
   "id": "3b8781ab",
   "metadata": {},
   "outputs": [
    {
     "data": {
      "text/plain": [
       "True"
      ]
     },
     "execution_count": 162,
     "metadata": {},
     "output_type": "execute_result"
    }
   ],
   "source": [
    "import os\n",
    "from dotenv import load_dotenv\n",
    "load_dotenv()  # take environment variables"
   ]
  },
  {
   "cell_type": "code",
   "execution_count": 4,
   "id": "b98407e7",
   "metadata": {},
   "outputs": [],
   "source": [
    "from pinecone import Pinecone, ServerlessSpec"
   ]
  },
  {
   "cell_type": "code",
   "execution_count": 126,
   "id": "5df5f725",
   "metadata": {},
   "outputs": [],
   "source": [
    "\n",
    "PINECONE_API_KEY= os.getenv(\"PINECONE_API_KEY\")\n",
    "# \"pcsk_5YddPH_Aup51d2Gda1sWKwohEc1ZKHeEUC6yC4rHzNts9RPWZcQ8Tw6aqZsnMyGZMQCkqM\"\n",
    "\n",
    "pc = Pinecone(api_key=PINECONE_API_KEY)"
   ]
  },
  {
   "cell_type": "code",
   "execution_count": null,
   "id": "714b9700",
   "metadata": {},
   "outputs": [],
   "source": [
    "## My Sql Connection:\n"
   ]
  },
  {
   "cell_type": "code",
   "execution_count": null,
   "id": "6b20fe87",
   "metadata": {},
   "outputs": [
    {
     "data": {
      "text/plain": [
       "True"
      ]
     },
     "execution_count": 131,
     "metadata": {},
     "output_type": "execute_result"
    }
   ],
   "source": [
    "import mysql.connector\n",
    "import pandas as pd\n"
   ]
  },
  {
   "cell_type": "code",
   "execution_count": 164,
   "id": "d06a77d3",
   "metadata": {},
   "outputs": [],
   "source": [
    "# loading the mysql database credentials\n",
    "host = os.getenv(\"host\")\n",
    "user = os.getenv(\"user\")\n",
    "password = os.getenv(\"password\")\n",
    "database = os.getenv(\"database\")\n",
    "port = os.getenv(\"port\")\n"
   ]
  },
  {
   "cell_type": "code",
   "execution_count": 136,
   "id": "73825631",
   "metadata": {},
   "outputs": [],
   "source": [
    "\n",
    "# Step 1: Connect to your local MySQL database\n",
    "conn = mysql.connector.connect(\n",
    "    host=host,      \n",
    "    user=user,   \n",
    "    password=password,  \n",
    "    database=database   \n",
    ")\n",
    "\n",
    "# Step 2: Create a cursor\n",
    "cursor = conn.cursor()\n"
   ]
  },
  {
   "cell_type": "code",
   "execution_count": 137,
   "id": "d411ce90",
   "metadata": {},
   "outputs": [],
   "source": [
    "\n",
    "# Step 3: Write your SQL query\n",
    "query = \"SELECT * FROM workexperience;\"  # example table\n",
    "\n",
    "# Step 4: Use pandas to read the result into a DataFrame\n",
    "df = pd.read_sql(query, conn)\n",
    "\n",
    "# Step 5: Display the DataFrame\n",
    "# print(df)\n",
    "\n",
    "# Optional: Close the connection when done\n",
    "cursor.close()\n",
    "conn.close()\n"
   ]
  },
  {
   "cell_type": "code",
   "execution_count": 138,
   "id": "295d835e",
   "metadata": {},
   "outputs": [
    {
     "data": {
      "text/html": [
       "<div>\n",
       "<style scoped>\n",
       "    .dataframe tbody tr th:only-of-type {\n",
       "        vertical-align: middle;\n",
       "    }\n",
       "\n",
       "    .dataframe tbody tr th {\n",
       "        vertical-align: top;\n",
       "    }\n",
       "\n",
       "    .dataframe thead th {\n",
       "        text-align: right;\n",
       "    }\n",
       "</style>\n",
       "<table border=\"1\" class=\"dataframe\">\n",
       "  <thead>\n",
       "    <tr style=\"text-align: right;\">\n",
       "      <th></th>\n",
       "      <th>workExperienceId</th>\n",
       "      <th>company</th>\n",
       "      <th>role</th>\n",
       "      <th>startDate</th>\n",
       "      <th>endDate</th>\n",
       "      <th>description</th>\n",
       "      <th>locationCity</th>\n",
       "      <th>locationCountry</th>\n",
       "    </tr>\n",
       "  </thead>\n",
       "  <tbody>\n",
       "    <tr>\n",
       "      <th>0</th>\n",
       "      <td>EXP001</td>\n",
       "      <td>Tata Consultancy Services</td>\n",
       "      <td>Software Engineer</td>\n",
       "      <td>2021-01-10</td>\n",
       "      <td>2023-05-20</td>\n",
       "      <td>Worked on backend systems and REST APIs using ...</td>\n",
       "      <td>Mumbai</td>\n",
       "      <td>India</td>\n",
       "    </tr>\n",
       "    <tr>\n",
       "      <th>1</th>\n",
       "      <td>EXP002</td>\n",
       "      <td>Google</td>\n",
       "      <td>Data Analyst</td>\n",
       "      <td>2019-06-01</td>\n",
       "      <td>2021-12-15</td>\n",
       "      <td>Analyzed user data to generate actionable insi...</td>\n",
       "      <td>Hyderabad</td>\n",
       "      <td>India</td>\n",
       "    </tr>\n",
       "  </tbody>\n",
       "</table>\n",
       "</div>"
      ],
      "text/plain": [
       "  workExperienceId                    company               role   startDate  \\\n",
       "0           EXP001  Tata Consultancy Services  Software Engineer  2021-01-10   \n",
       "1           EXP002                     Google       Data Analyst  2019-06-01   \n",
       "\n",
       "      endDate                                        description locationCity  \\\n",
       "0  2023-05-20  Worked on backend systems and REST APIs using ...       Mumbai   \n",
       "1  2021-12-15  Analyzed user data to generate actionable insi...    Hyderabad   \n",
       "\n",
       "  locationCountry  \n",
       "0           India  \n",
       "1           India  "
      ]
     },
     "execution_count": 138,
     "metadata": {},
     "output_type": "execute_result"
    }
   ],
   "source": [
    "df.head(2)"
   ]
  },
  {
   "cell_type": "markdown",
   "id": "db475b3d",
   "metadata": {},
   "source": [
    "## Testing llm "
   ]
  },
  {
   "cell_type": "code",
   "execution_count": 23,
   "id": "5dd09a36",
   "metadata": {},
   "outputs": [],
   "source": [
    "# %pip install -q -U google-genai"
   ]
  },
  {
   "cell_type": "code",
   "execution_count": 155,
   "id": "cc739b76",
   "metadata": {},
   "outputs": [],
   "source": [
    "from google import genai\n",
    "google_api_key= os.getenv(\"llm_api_key\")\n",
    "\n",
    "client = genai.Client(api_key=google_api_key)"
   ]
  },
  {
   "cell_type": "code",
   "execution_count": 158,
   "id": "72f9a6d4",
   "metadata": {},
   "outputs": [
    {
     "name": "stdout",
     "output_type": "stream",
     "text": [
      "Good morning to you too! How can I help you today?\n"
     ]
    }
   ],
   "source": [
    "response = client.models.generate_content(\n",
    "    # model=\"gemini-2.0-flash\",\n",
    "    model = \"gemini-2.5-flash\",\n",
    "    contents=\"Hi, good morning!!\",\n",
    ")\n",
    "\n",
    "print(response.text)\n"
   ]
  },
  {
   "cell_type": "code",
   "execution_count": 35,
   "id": "f31f8158",
   "metadata": {},
   "outputs": [],
   "source": [
    "from sqlalchemy import create_engine\n",
    "# Connecting to the my-sql workbench:\n",
    "from langchain.utilities import SQLDatabase\n",
    "import pymysql\n"
   ]
  },
  {
   "cell_type": "code",
   "execution_count": null,
   "id": "cb61aeda",
   "metadata": {},
   "outputs": [],
   "source": [
    "from langchain_google_genai import ChatGoogleGenerativeAI\n",
    "\n",
    "llm = ChatGoogleGenerativeAI(\n",
    "    google_api_key = google_api_key,\n",
    "    model=\"gemini-2.0-flash\",\n",
    "    temperature=0,\n",
    "    max_tokens=None,\n",
    "    timeout=None,\n",
    "    max_retries=2,\n",
    "    # other params...\n",
    ")"
   ]
  },
  {
   "cell_type": "code",
   "execution_count": null,
   "id": "c1cb2a4c",
   "metadata": {},
   "outputs": [],
   "source": []
  },
  {
   "cell_type": "code",
   "execution_count": 165,
   "id": "a8a9f22a",
   "metadata": {},
   "outputs": [],
   "source": [
    "from langchain.utilities import SQLDatabase\n",
    "import pymysql\n",
    "from urllib.parse import quote_plus\n",
    "encoded_password = quote_plus(password)\n",
    "engine_url = f\"mysql+mysqlconnector://{user}:{encoded_password}@{host}:{port}/{database}\"\n",
    "db = SQLDatabase.from_uri(engine_url)"
   ]
  },
  {
   "cell_type": "code",
   "execution_count": 166,
   "id": "e35c24a8",
   "metadata": {},
   "outputs": [
    {
     "data": {
      "text/plain": [
       "['education',\n",
       " 'mystartup_users',\n",
       " 'mystartupuserskills',\n",
       " 'personalinformation',\n",
       " 'skills',\n",
       " 'userresume',\n",
       " 'workexperience']"
      ]
     },
     "execution_count": 166,
     "metadata": {},
     "output_type": "execute_result"
    }
   ],
   "source": [
    "# check that the database has been instantiated correctly\n",
    "db.get_usable_table_names()"
   ]
  },
  {
   "cell_type": "code",
   "execution_count": 167,
   "id": "38352abd",
   "metadata": {},
   "outputs": [],
   "source": [
    "from langchain.agents import create_sql_agent\n",
    "from langchain.agents.agent_toolkits import SQLDatabaseToolkit\n",
    "from langchain.agents.agent_types import AgentType"
   ]
  },
  {
   "cell_type": "code",
   "execution_count": 168,
   "id": "139c9331",
   "metadata": {},
   "outputs": [],
   "source": [
    "agent_executor = create_sql_agent(\n",
    "    llm=llm,\n",
    "    toolkit=SQLDatabaseToolkit(db=db, llm=llm),\n",
    "    verbose=True,\n",
    "    agent_type=AgentType.ZERO_SHOT_REACT_DESCRIPTION,\n",
    ")"
   ]
  },
  {
   "cell_type": "code",
   "execution_count": 101,
   "id": "655fc2f3",
   "metadata": {},
   "outputs": [
    {
     "name": "stdout",
     "output_type": "stream",
     "text": [
      "\n",
      "\n",
      "\u001b[1m> Entering new SQL Agent Executor chain...\u001b[0m\n",
      "\u001b[32;1m\u001b[1;3mAction: sql_db_list_tables\n",
      "Action Input:\u001b[0m\u001b[38;5;200m\u001b[1;3meducation, mystartup_users, mystartupuserskills, personalinformation, skills, userresume, workexperience\u001b[0m\u001b[32;1m\u001b[1;3mI should query the schema of the education table to see what columns are available.\n",
      "Action: sql_db_schema\n",
      "Action Input: education\u001b[0m\u001b[33;1m\u001b[1;3m\n",
      "CREATE TABLE education (\n",
      "\t`educationId` VARCHAR(50) NOT NULL, \n",
      "\tdegree VARCHAR(100), \n",
      "\tmajor VARCHAR(100), \n",
      "\tschool VARCHAR(100), \n",
      "\t`startDate` DATE, \n",
      "\t`endDate` DATE, \n",
      "\tgrade VARCHAR(20), \n",
      "\tPRIMARY KEY (`educationId`)\n",
      ")COLLATE utf8mb4_0900_ai_ci ENGINE=InnoDB DEFAULT CHARSET=utf8mb4\n",
      "\n",
      "/*\n",
      "3 rows from education table:\n",
      "educationId\tdegree\tmajor\tschool\tstartDate\tendDate\tgrade\n",
      "EDU001\tBachelor of Science\tComputer Science\tIIT Delhi\t2017-07-01\t2021-06-30\t8.5\n",
      "EDU002\tBachelor of Technology\tElectrical Engineering\tNIT Trichy\t2016-08-01\t2020-05-15\t8.2\n",
      "EDU003\tMaster of Science\tData Science\tBITS Pilani\t2021-09-01\t2023-07-01\t9.0\n",
      "*/\u001b[0m\u001b[32;1m\u001b[1;3mI should count the number of rows in the education table.\n",
      "Action: sql_db_query\n",
      "Action Input: SELECT count(*) FROM education\u001b[0m\u001b[36;1m\u001b[1;3m[(5,)]\u001b[0m\u001b[32;1m\u001b[1;3mI now know the final answer\n",
      "Final Answer: There are 5 candidates in the education table.\u001b[0m\n",
      "\n",
      "\u001b[1m> Finished chain.\u001b[0m\n"
     ]
    }
   ],
   "source": [
    "output = agent_executor.run(\n",
    "    \"How many candidates are there in the education table\"\n",
    ")"
   ]
  },
  {
   "cell_type": "code",
   "execution_count": 106,
   "id": "0cac5b9b",
   "metadata": {},
   "outputs": [
    {
     "data": {
      "text/plain": [
       "'There are 5 candidates in the education table.'"
      ]
     },
     "execution_count": 106,
     "metadata": {},
     "output_type": "execute_result"
    }
   ],
   "source": [
    "output"
   ]
  },
  {
   "cell_type": "code",
   "execution_count": null,
   "id": "9087d880",
   "metadata": {},
   "outputs": [],
   "source": []
  },
  {
   "cell_type": "code",
   "execution_count": null,
   "id": "f3da5d47",
   "metadata": {},
   "outputs": [],
   "source": []
  },
  {
   "cell_type": "code",
   "execution_count": null,
   "id": "018c9b5c",
   "metadata": {},
   "outputs": [],
   "source": []
  },
  {
   "cell_type": "code",
   "execution_count": null,
   "id": "e5c21f19",
   "metadata": {},
   "outputs": [],
   "source": []
  }
 ],
 "metadata": {
  "kernelspec": {
   "display_name": "Python 3",
   "language": "python",
   "name": "python3"
  },
  "language_info": {
   "codemirror_mode": {
    "name": "ipython",
    "version": 3
   },
   "file_extension": ".py",
   "mimetype": "text/x-python",
   "name": "python",
   "nbconvert_exporter": "python",
   "pygments_lexer": "ipython3",
   "version": "3.11.7"
  }
 },
 "nbformat": 4,
 "nbformat_minor": 5
}
